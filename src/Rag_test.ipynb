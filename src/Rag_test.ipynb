{
 "cells": [
  {
   "cell_type": "markdown",
   "id": "9d56f4ea",
   "metadata": {
    "vscode": {
     "languageId": "plaintext"
    }
   },
   "source": [
    "## I will be testing my RAG pipeline \n",
    "\n"
   ]
  },
  {
   "cell_type": "code",
   "execution_count": 10,
   "id": "e0633914",
   "metadata": {},
   "outputs": [],
   "source": [
    "from Retrival_phase import reset_database, chat\n",
    "import requests\n",
    "from Retrival_phase import initialize"
   ]
  },
  {
   "cell_type": "code",
   "execution_count": 11,
   "id": "572ee208",
   "metadata": {},
   "outputs": [
    {
     "name": "stdout",
     "output_type": "stream",
     "text": [
      "['Risk_management.pdf', 'psychology_of_life.html']\n"
     ]
    }
   ],
   "source": [
    "def download_files():\n",
    "    sample_files = [\n",
    "\n",
    "        {\n",
    "            \"url\": \"https://www.ipcc.ch/site/assets/uploads/sites/4/2022/11/SRCCL_Chapter_7.pdf\",\n",
    "            \"file_name\": \"Risk_management.pdf\"\n",
    "        },\n",
    "\n",
    "        {\n",
    "            \"url\": \"https://medium.com/@kathrynmcm/the-surprising-psychology-of-life-without-mirrors-7d5011e53d94\",\n",
    "            \"file_name\": \"psychology_of_life.html\"  \n",
    "        }\n",
    "    ]\n",
    "\n",
    "    for files in sample_files:\n",
    "        resp= requests.get(files[\"url\"])\n",
    "        with open(files[\"file_name\"], \"wb\") as f:\n",
    "            f.write(resp.content)\n",
    "    return [file_name[\"file_name\"] for file_name in sample_files]\n",
    "\n",
    "\n",
    "file_name= download_files()\n",
    "\n",
    "print(file_name)\n"
   ]
  },
  {
   "cell_type": "code",
   "execution_count": 12,
   "id": "d280bc0d",
   "metadata": {},
   "outputs": [],
   "source": [
    "reset_database()"
   ]
  },
  {
   "cell_type": "code",
   "execution_count": 13,
   "id": "502b7597",
   "metadata": {},
   "outputs": [
    {
     "name": "stdout",
     "output_type": "stream",
     "text": [
      "the total  \n",
      "the total  \n",
      "the total  \n",
      "the total  \n",
      "the total  \n",
      "the total  \n",
      "the total  \n",
      "the total  \n",
      "the total  \n",
      "the total  \n",
      "the total  \n",
      "the total  \n",
      "the total  \n",
      "the total  \n",
      "the total  \n",
      "the total  \n",
      "the total  \n",
      "the total  \n",
      "the total  \n",
      "the total  \n",
      "the total  \n",
      "the total  \n",
      "the total  \n",
      "the total  \n",
      "the total  \n",
      "the total  \n",
      "the total  \n",
      "the total  \n",
      "the total  \n",
      "the total  \n",
      "the total  \n",
      "the total  \n",
      "the total  \n",
      "the total  \n",
      "the total  \n",
      "the total  \n",
      "the total  \n",
      "the total  \n",
      "the total  \n",
      "the total  \n",
      "the total  \n",
      "the total  \n",
      "the total  \n",
      "the total  \n",
      "the total  \n",
      "the total  \n",
      "the total  \n",
      "the total  \n",
      "the total  \n",
      "the total  \n",
      "the total  \n",
      "the total  \n",
      "the total  \n",
      "the total  \n",
      "the total  \n",
      "the total  \n",
      "the total  \n",
      "the total  \n",
      "the total  \n",
      "the total  \n",
      "the total  \n",
      "the total  \n",
      "the total  \n",
      "the total  \n",
      "the total  \n",
      "the total  \n",
      "the total  \n",
      "the total  \n",
      "the total  \n",
      "the total  \n",
      "the total  \n",
      "the total  \n",
      "the total  \n",
      "the total  \n",
      "the total  \n",
      "the total  \n",
      "the total  \n",
      "the total  \n",
      "the total  \n",
      "the total  \n",
      "the total  \n",
      "the total  \n",
      "the total  \n",
      "the total  \n",
      "the total  \n",
      "the total  \n",
      "the total  \n",
      "the total  \n",
      "the total  \n",
      "the total  \n",
      "the total  \n",
      "the total  \n",
      "the total  \n",
      "the total  \n",
      "the total  \n",
      "the total  \n",
      "the total  \n",
      "the total  \n",
      "the total  \n",
      "the total  \n",
      "the total  \n",
      "the total  \n",
      "the total  \n",
      "the total  \n",
      "the total  \n",
      "the total  \n",
      "the total  \n",
      "the total  \n",
      "the total  \n",
      "the total  \n",
      "the total  \n",
      "the total  \n",
      "the total  \n",
      "the total  \n",
      "the total  \n",
      "the total  \n",
      "the total  \n",
      "the total  \n",
      "the total  \n",
      "the total  \n",
      "the total  \n",
      "the total  \n",
      "the total  \n",
      "the total  \n",
      "the total  \n",
      "the total  \n",
      "the total  \n",
      "the total  \n"
     ]
    }
   ],
   "source": [
    "Vectors= initialize(\"/Users/arthurkwakugregory/Desktop/Git_Repos/RAG_From_Scratch/src/Risk_management.pdf\")"
   ]
  },
  {
   "cell_type": "code",
   "execution_count": 14,
   "id": "3b89fe55",
   "metadata": {},
   "outputs": [
    {
     "name": "stdout",
     "output_type": "stream",
     "text": [
      "<Compressed Sparse Row sparse matrix of dtype 'float64'\n",
      "\twith 12170 stored elements and shape (1, 12170)>\n",
      "  Coords\tValues\n",
      "  (0, 10720)\t0.00010583794638502166\n",
      "  (0, 2131)\t0.00010583794638502166\n",
      "  (0, 7778)\t0.055882435691291435\n",
      "  (0, 2758)\t0.6519617497317334\n",
      "  (0, 4503)\t0.029105435255880958\n",
      "  (0, 7738)\t0.025295269186020177\n",
      "  (0, 6650)\t0.2609963757854634\n",
      "  (0, 9749)\t0.02741202811372061\n",
      "  (0, 11292)\t0.2213071458910803\n",
      "  (0, 11017)\t0.05418902854913109\n",
      "  (0, 4640)\t0.03704328123475758\n",
      "  (0, 4242)\t0.0021167589277004332\n",
      "  (0, 7452)\t0.0035984901770907364\n",
      "  (0, 3004)\t0.0004233517855400866\n",
      "  (0, 7827)\t0.000317513839155065\n",
      "  (0, 6513)\t0.005186059372866062\n",
      "  (0, 3640)\t0.003386814284320693\n",
      "  (0, 6960)\t0.0002116758927700433\n",
      "  (0, 7278)\t0.0004233517855400866\n",
      "  (0, 6700)\t0.00889038749634182\n",
      "  (0, 5075)\t0.0002116758927700433\n",
      "  (0, 4470)\t0.000317513839155065\n",
      "  (0, 5763)\t0.0019050830349303899\n",
      "  (0, 11035)\t0.003069300445165628\n",
      "  (0, 5764)\t0.0002116758927700433\n",
      "  :\t:\n",
      "  (0, 413)\t0.00010583794638502166\n",
      "  (0, 12159)\t0.00010583794638502166\n",
      "  (0, 1416)\t0.00010583794638502166\n",
      "  (0, 267)\t0.00010583794638502166\n",
      "  (0, 2259)\t0.00010583794638502166\n",
      "  (0, 895)\t0.00010583794638502166\n",
      "  (0, 2362)\t0.00010583794638502166\n",
      "  (0, 1726)\t0.00010583794638502166\n",
      "  (0, 757)\t0.00010583794638502166\n",
      "  (0, 3100)\t0.00010583794638502166\n",
      "  (0, 8332)\t0.00010583794638502166\n",
      "  (0, 6948)\t0.00010583794638502166\n",
      "  (0, 1771)\t0.00010583794638502166\n",
      "  (0, 1773)\t0.00010583794638502166\n",
      "  (0, 550)\t0.00010583794638502166\n",
      "  (0, 12149)\t0.00010583794638502166\n",
      "  (0, 11334)\t0.00010583794638502166\n",
      "  (0, 3433)\t0.00010583794638502166\n",
      "  (0, 12024)\t0.00010583794638502166\n",
      "  (0, 1744)\t0.00010583794638502166\n",
      "  (0, 2739)\t0.00010583794638502166\n",
      "  (0, 10408)\t0.00010583794638502166\n",
      "  (0, 3362)\t0.00010583794638502166\n",
      "  (0, 1528)\t0.00010583794638502166\n",
      "  (0, 1530)\t0.00010583794638502166\n"
     ]
    }
   ],
   "source": [
    "print(Vectors)"
   ]
  },
  {
   "cell_type": "code",
   "execution_count": 16,
   "id": "9a498993",
   "metadata": {},
   "outputs": [
    {
     "ename": "TypeError",
     "evalue": "sequence item 0: expected str instance, list found",
     "output_type": "error",
     "traceback": [
      "\u001b[31m---------------------------------------------------------------------------\u001b[39m",
      "\u001b[31mTypeError\u001b[39m                                 Traceback (most recent call last)",
      "\u001b[36mCell\u001b[39m\u001b[36m \u001b[39m\u001b[32mIn[16]\u001b[39m\u001b[32m, line 1\u001b[39m\n\u001b[32m----> \u001b[39m\u001b[32m1\u001b[39m resp= \u001b[43mchat\u001b[49m\u001b[43m(\u001b[49m\u001b[33;43m\"\u001b[39;49m\u001b[33;43mWho are the authors of the report\u001b[39;49m\u001b[33;43m\"\u001b[39;49m\u001b[43m)\u001b[49m\n",
      "\u001b[36mFile \u001b[39m\u001b[32m~/Desktop/Git_Repos/RAG_From_Scratch/src/Retrival_phase.py:22\u001b[39m, in \u001b[36mchat\u001b[39m\u001b[34m(user_query, is_debug)\u001b[39m\n\u001b[32m     20\u001b[39m \u001b[38;5;28;01mdef\u001b[39;00m\u001b[38;5;250m \u001b[39m\u001b[34mchat\u001b[39m(user_query, is_debug= \u001b[38;5;28;01mFalse\u001b[39;00m):\n\u001b[32m     21\u001b[39m     original_best_match, processed_best_match= dv.find_best_matches(user_query)\n\u001b[32m---> \u001b[39m\u001b[32m22\u001b[39m     context= \u001b[33;43m\"\u001b[39;49m\u001b[38;5;130;43;01m\\n\u001b[39;49;00m\u001b[38;5;130;43;01m\\n\u001b[39;49;00m\u001b[33;43m\"\u001b[39;49m\u001b[43m.\u001b[49m\u001b[43mjoin\u001b[49m\u001b[43m(\u001b[49m\u001b[43moriginal_best_match\u001b[49m\u001b[43m)\u001b[49m\n\u001b[32m     24\u001b[39m     \u001b[38;5;28;01mif\u001b[39;00m is_debug: \u001b[38;5;66;03m##this is ensure that our model can give us some context when we aren't able to get a response\u001b[39;00m\n\u001b[32m     25\u001b[39m         \u001b[38;5;28mprint\u001b[39m(\u001b[33mf\u001b[39m\u001b[33m\"\u001b[39m\u001b[33mContext: \u001b[39m\u001b[38;5;132;01m{\u001b[39;00mcontext\u001b[38;5;132;01m}\u001b[39;00m\u001b[33m\"\u001b[39m)\n",
      "\u001b[31mTypeError\u001b[39m: sequence item 0: expected str instance, list found"
     ]
    }
   ],
   "source": [
    "resp= chat(\"Who are the authors of the report\")"
   ]
  },
  {
   "cell_type": "code",
   "execution_count": null,
   "id": "382b5711",
   "metadata": {},
   "outputs": [],
   "source": []
  }
 ],
 "metadata": {
  "kernelspec": {
   "display_name": "env",
   "language": "python",
   "name": "python3"
  },
  "language_info": {
   "codemirror_mode": {
    "name": "ipython",
    "version": 3
   },
   "file_extension": ".py",
   "mimetype": "text/x-python",
   "name": "python",
   "nbconvert_exporter": "python",
   "pygments_lexer": "ipython3",
   "version": "3.11.9"
  }
 },
 "nbformat": 4,
 "nbformat_minor": 5
}
