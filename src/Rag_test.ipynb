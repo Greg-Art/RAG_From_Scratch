{
 "cells": [
  {
   "cell_type": "markdown",
   "id": "9d56f4ea",
   "metadata": {
    "vscode": {
     "languageId": "plaintext"
    }
   },
   "source": [
    "## I will be testing my RAG pipeline \n",
    "\n"
   ]
  },
  {
   "cell_type": "code",
   "execution_count": 3,
   "id": "e0633914",
   "metadata": {},
   "outputs": [],
   "source": [
    "from Retrival_phase import reset_database\n",
    "import requests\n",
    "from Retrival_phase import initialize"
   ]
  },
  {
   "cell_type": "code",
   "execution_count": 6,
   "id": "572ee208",
   "metadata": {},
   "outputs": [
    {
     "name": "stdout",
     "output_type": "stream",
     "text": [
      "['Risk_management.pdf', 'psychology_of_life.html']\n"
     ]
    }
   ],
   "source": [
    "def download_files():\n",
    "    sample_files = [\n",
    "\n",
    "        {\n",
    "            \"url\": \"https://www.ipcc.ch/site/assets/uploads/sites/4/2022/11/SRCCL_Chapter_7.pdf\",\n",
    "            \"file_name\": \"Risk_management.pdf\"\n",
    "        },\n",
    "\n",
    "        {\n",
    "            \"url\": \"https://medium.com/@kathrynmcm/the-surprising-psychology-of-life-without-mirrors-7d5011e53d94\",\n",
    "            \"file_name\": \"psychology_of_life.html\"  \n",
    "        }\n",
    "    ]\n",
    "\n",
    "    for files in sample_files:\n",
    "        resp= requests.get(files[\"url\"])\n",
    "        with open(files[\"file_name\"], \"wb\") as f:\n",
    "            f.write(resp.content)\n",
    "    return [file_name[\"file_name\"] for file_name in sample_files]\n",
    "\n",
    "\n",
    "file_name= download_files()\n",
    "\n",
    "print(file_name)\n"
   ]
  },
  {
   "cell_type": "code",
   "execution_count": 2,
   "id": "d280bc0d",
   "metadata": {},
   "outputs": [],
   "source": [
    "reset_database()"
   ]
  },
  {
   "cell_type": "code",
   "execution_count": 5,
   "id": "502b7597",
   "metadata": {},
   "outputs": [
    {
     "ename": "AttributeError",
     "evalue": "'str' object has no attribute 'suffix'",
     "output_type": "error",
     "traceback": [
      "\u001b[31m---------------------------------------------------------------------------\u001b[39m",
      "\u001b[31mAttributeError\u001b[39m                            Traceback (most recent call last)",
      "\u001b[36mCell\u001b[39m\u001b[36m \u001b[39m\u001b[32mIn[5]\u001b[39m\u001b[32m, line 1\u001b[39m\n\u001b[32m----> \u001b[39m\u001b[32m1\u001b[39m Vectors= \u001b[43minitialize\u001b[49m\u001b[43m(\u001b[49m\u001b[33;43m\"\u001b[39;49m\u001b[33;43m/Users/arthurkwakugregory/Desktop/Git_Repos/RAG_From_Scratch/src/Risk_management.pdf\u001b[39;49m\u001b[33;43m\"\u001b[39;49m\u001b[43m)\u001b[49m\n",
      "\u001b[36mFile \u001b[39m\u001b[32m~/Desktop/Git_Repos/RAG_From_Scratch/src/Retrival_phase.py:17\u001b[39m, in \u001b[36minitialize\u001b[39m\u001b[34m(file_name)\u001b[39m\n\u001b[32m     15\u001b[39m \u001b[38;5;28;01mdef\u001b[39;00m\u001b[38;5;250m \u001b[39m\u001b[34minitialize\u001b[39m(file_name):\n\u001b[32m     16\u001b[39m     file_type= file_name.split(\u001b[33m\"\u001b[39m\u001b[33m.\u001b[39m\u001b[33m\"\u001b[39m)[-\u001b[32m1\u001b[39m] \n\u001b[32m---> \u001b[39m\u001b[32m17\u001b[39m     \u001b[38;5;28;01mreturn\u001b[39;00m \u001b[43mdv\u001b[49m\u001b[43m.\u001b[49m\u001b[43mprocess_and_add_documents\u001b[49m\u001b[43m(\u001b[49m\u001b[43mfile_path\u001b[49m\u001b[43m=\u001b[49m\u001b[43mfile_name\u001b[49m\u001b[43m,\u001b[49m\u001b[43m \u001b[49m\u001b[43mfile_type\u001b[49m\u001b[43m=\u001b[49m\u001b[43mfile_type\u001b[49m\u001b[43m)\u001b[49m\n",
      "\u001b[36mFile \u001b[39m\u001b[32m~/Desktop/Git_Repos/RAG_From_Scratch/src/Ingesting_phase.py:113\u001b[39m, in \u001b[36mDoc_Vectorizer.process_and_add_documents\u001b[39m\u001b[34m(self, file_path, file_type)\u001b[39m\n\u001b[32m    112\u001b[39m \u001b[38;5;28;01mdef\u001b[39;00m\u001b[38;5;250m \u001b[39m\u001b[34mprocess_and_add_documents\u001b[39m(\u001b[38;5;28mself\u001b[39m, file_path, file_type): \u001b[38;5;66;03m##this is a method for handling multiple \u001b[39;00m\n\u001b[32m--> \u001b[39m\u001b[32m113\u001b[39m     file_type= \u001b[43mfile_type\u001b[49m\u001b[43m.\u001b[49m\u001b[43msuffix\u001b[49m().lower() \u001b[38;5;66;03m##this should help handle various casing inputs of the variables \u001b[39;00m\n\u001b[32m    114\u001b[39m     doc_loader= DocumentLoader(file_path) \u001b[38;5;66;03m##intiating the documentloader class\u001b[39;00m\n\u001b[32m    115\u001b[39m     \u001b[38;5;28;01mif\u001b[39;00m file_type == \u001b[33m\"\u001b[39m\u001b[33mpdf\u001b[39m\u001b[33m\"\u001b[39m:\n",
      "\u001b[31mAttributeError\u001b[39m: 'str' object has no attribute 'suffix'"
     ]
    }
   ],
   "source": [
    "Vectors= initialize(\"/Users/arthurkwakugregory/Desktop/Git_Repos/RAG_From_Scratch/src/Risk_management.pdf\")"
   ]
  },
  {
   "cell_type": "code",
   "execution_count": null,
   "id": "3b89fe55",
   "metadata": {},
   "outputs": [],
   "source": []
  }
 ],
 "metadata": {
  "kernelspec": {
   "display_name": "env",
   "language": "python",
   "name": "python3"
  },
  "language_info": {
   "codemirror_mode": {
    "name": "ipython",
    "version": 3
   },
   "file_extension": ".py",
   "mimetype": "text/x-python",
   "name": "python",
   "nbconvert_exporter": "python",
   "pygments_lexer": "ipython3",
   "version": "3.11.9"
  }
 },
 "nbformat": 4,
 "nbformat_minor": 5
}
